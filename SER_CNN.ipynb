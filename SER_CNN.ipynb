{
  "metadata": {
    "kernelspec": {
      "display_name": "Python 3",
      "name": "python3"
    },
    "language_info": {
      "name": "python",
      "version": "3.7.12",
      "mimetype": "text/x-python",
      "codemirror_mode": {
        "name": "ipython",
        "version": 3
      },
      "pygments_lexer": "ipython3",
      "nbconvert_exporter": "python",
      "file_extension": ".py"
    },
    "kaggle": {
      "accelerator": "gpu",
      "dataSources": [
        {
          "sourceId": 1877714,
          "sourceType": "datasetVersion",
          "datasetId": 1118008
        }
      ],
      "dockerImageVersionId": 30204,
      "isInternetEnabled": true,
      "language": "python",
      "sourceType": "notebook",
      "isGpuEnabled": true
    },
    "colab": {
      "provenance": [],
      "gpuType": "T4",
      "include_colab_link": true
    },
    "accelerator": "GPU"
  },
  "nbformat_minor": 0,
  "nbformat": 4,
  "cells": [
    {
      "cell_type": "markdown",
      "metadata": {
        "id": "view-in-github",
        "colab_type": "text"
      },
      "source": [
        "<a href=\"https://colab.research.google.com/github/idrissdjio/Transformers/blob/main/SER_CNN.ipynb\" target=\"_parent\"><img src=\"https://colab.research.google.com/assets/colab-badge.svg\" alt=\"Open In Colab\"/></a>"
      ]
    },
    {
      "cell_type": "code",
      "source": [
        "import os\n",
        "from google.colab import drive\n",
        "drive.mount(\"/content/drive\", force_remount=True)"
      ],
      "metadata": {
        "colab": {
          "base_uri": "https://localhost:8080/"
        },
        "id": "sk8x6EolV4Nf",
        "outputId": "c389b6af-909e-463c-d173-855d34de24f8"
      },
      "execution_count": 1,
      "outputs": [
        {
          "output_type": "stream",
          "name": "stdout",
          "text": [
            "Mounted at /content/drive\n"
          ]
        }
      ]
    },
    {
      "cell_type": "code",
      "source": [
        "# os.chdir('/content/drive/MyDrive/CSCI-DeepLearning/FinalProject/dataset/input/speech-emotion-recognition-en/')\n",
        "os.chdir('/content/drive/MyDrive/DeepLearning-Final/FinalProject/dataset/processed_csv/updated_csv')\n",
        "# os.chdir('/content/drive/MyDrive/CSCI-DeepLearning/FinalProject/dataset/processed_csv')\n",
        "!ls"
      ],
      "metadata": {
        "id": "UI9gHPobWWsc",
        "colab": {
          "base_uri": "https://localhost:8080/"
        },
        "outputId": "c8000dd6-7dc5-4f7b-dee3-7ac1c163e57b"
      },
      "execution_count": 2,
      "outputs": [
        {
          "output_type": "stream",
          "name": "stdout",
          "text": [
            "checkpoints\t\t  ravdess_crema_combined_processed_data.csv\n",
            "crema_processed_data.csv  ravdess_processed_data.csv\n"
          ]
        }
      ]
    },
    {
      "cell_type": "code",
      "source": [
        "import numpy as np\n",
        "import pandas as pd\n",
        "import librosa\n",
        "import librosa.display\n",
        "import matplotlib.pyplot as plt\n",
        "import plotly.graph_objects as go\n",
        "import plotly.express as px\n",
        "import plotly.figure_factory as ff\n",
        "import seaborn as sns\n",
        "import IPython\n",
        "import tensorflow.keras.layers as L\n",
        "import tensorflow as tf\n",
        "from tensorflow.keras.callbacks import EarlyStopping, ReduceLROnPlateau\n",
        "from keras.utils import to_categorical\n",
        "from sklearn.model_selection import train_test_split\n",
        "from sklearn.metrics import confusion_matrix\n",
        "from sklearn.metrics import classification_report\n",
        "from sklearn.preprocessing import LabelEncoder,StandardScaler\n",
        "import re\n",
        "import itertools\n",
        "%matplotlib inline\n",
        "import warnings\n",
        "warnings.filterwarnings('ignore')\n",
        "from tensorflow.keras.callbacks import ModelCheckpoint\n",
        "import os\n"
      ],
      "metadata": {
        "_uuid": "8f2839f25d086af736a60e9eeb907d3b93b6e0e5",
        "_cell_guid": "b1076dfc-b9ad-4769-8c92-a6c4dae69d19",
        "execution": {
          "iopub.status.busy": "2023-12-07T03:13:48.246939Z",
          "iopub.execute_input": "2023-12-07T03:13:48.247646Z",
          "iopub.status.idle": "2023-12-07T03:13:52.301653Z",
          "shell.execute_reply.started": "2023-12-07T03:13:48.247535Z",
          "shell.execute_reply": "2023-12-07T03:13:52.300584Z"
        },
        "trusted": true,
        "id": "mwKrP-sBViym"
      },
      "execution_count": 3,
      "outputs": []
    },
    {
      "cell_type": "code",
      "source": [
        "# def create_model(input_dims, output_dims, model_optimizer, model_loss):\n",
        "#     model = tf.keras.Sequential([\n",
        "#         tf.keras.layers.Conv1D(512, kernel_size=5, strides=1, padding='same', activation='relu', input_shape=input_dims),\n",
        "#         tf.keras.layers.BatchNormalization(),\n",
        "#         tf.keras.layers.MaxPooling1D(pool_size=5, strides=2, padding='same'),\n",
        "#         tf.keras.layers.Conv1D(512, kernel_size=5, strides=1, padding='same', activation='relu'),\n",
        "#         tf.keras.layers.BatchNormalization(),\n",
        "#         tf.keras.layers.MaxPooling1D(pool_size=5, strides=2, padding='same'),\n",
        "#         tf.keras.layers.Conv1D(256, kernel_size=5, strides=1, padding='same', activation='relu'),\n",
        "#         tf.keras.layers.BatchNormalization(),\n",
        "#         tf.keras.layers.MaxPooling1D(pool_size=5, strides=2, padding='same'),\n",
        "#         tf.keras.layers.Conv1D(256, kernel_size=3, strides=1, padding='same', activation='relu'),\n",
        "#         tf.keras.layers.BatchNormalization(),\n",
        "#         tf.keras.layers.MaxPooling1D(pool_size=5, strides=2, padding='same'),\n",
        "#         tf.keras.layers.Conv1D(128, kernel_size=3, strides=1, padding='same', activation='relu'),\n",
        "#         tf.keras.layers.BatchNormalization(),\n",
        "#         tf.keras.layers.MaxPooling1D(pool_size=3, strides=2, padding='same'),\n",
        "#         tf.keras.layers.Flatten(),\n",
        "#         tf.keras.layers.Dense(512, activation='relu'),\n",
        "#         tf.keras.layers.BatchNormalization(),\n",
        "#         tf.keras.layers.Dense(output_dims, activation='softmax')\n",
        "#     ])\n",
        "#     model.compile(optimizer=model_optimizer, loss=model_loss, metrics=['accuracy'])\n",
        "#     return model\n",
        "\n",
        "def create_model(input_dims, output_dims, model_optimizer, model_loss):\n",
        "    model = tf.keras.Sequential([\n",
        "        tf.keras.layers.Conv1D(512, kernel_size=5, strides=1, padding='same', activation='relu', input_shape=input_dims),\n",
        "        tf.keras.layers.BatchNormalization(),\n",
        "        tf.keras.layers.MaxPooling1D(pool_size=5, strides=2, padding='same'),\n",
        "        tf.keras.layers.Conv1D(512, kernel_size=5, strides=1, padding='same', activation='relu'),\n",
        "        tf.keras.layers.BatchNormalization(),\n",
        "        tf.keras.layers.MaxPooling1D(pool_size=5, strides=2, padding='same'),\n",
        "        tf.keras.layers.Conv1D(256, kernel_size=5, strides=1, padding='same', activation='relu'),\n",
        "        tf.keras.layers.BatchNormalization(),\n",
        "        tf.keras.layers.MaxPooling1D(pool_size=5, strides=2, padding='same'),\n",
        "        tf.keras.layers.Conv1D(256, kernel_size=3, strides=1, padding='same', activation='relu'),\n",
        "        tf.keras.layers.BatchNormalization(),\n",
        "        tf.keras.layers.MaxPooling1D(pool_size=5, strides=2, padding='same'),\n",
        "        tf.keras.layers.Conv1D(128, kernel_size=3, strides=1, padding='same', activation='relu'),\n",
        "        tf.keras.layers.BatchNormalization(),\n",
        "        tf.keras.layers.MaxPooling1D(pool_size=3, strides=2, padding='same'),\n",
        "        tf.keras.layers.Flatten(),\n",
        "        tf.keras.layers.Dense(512, activation='relu'),\n",
        "        tf.keras.layers.BatchNormalization(),\n",
        "        tf.keras.layers.Dense(output_dims, activation='softmax')\n",
        "    ])\n",
        "    model.compile(optimizer=model_optimizer, loss=model_loss, metrics=['accuracy'])\n",
        "    return model"
      ],
      "metadata": {
        "id": "Bl7NQNb4oocw"
      },
      "execution_count": 32,
      "outputs": []
    },
    {
      "cell_type": "code",
      "source": [
        "# CONSTANTS\n",
        "optimizer = tf.keras.optimizers.legacy.Adam()\n",
        "model_loss='categorical_crossentropy'\n",
        "EPOCH=50\n",
        "BATCH_SIZE=128\n",
        "model_type='CNN based'\n",
        "early_stopping_callback = EarlyStopping(\n",
        "    monitor='val_accuracy',\n",
        "    mode='auto',\n",
        "    patience=5,\n",
        "    restore_best_weights=True\n",
        ")\n",
        "\n",
        "lr_scheduler = ReduceLROnPlateau(\n",
        "    monitor='val_accuracy',\n",
        "    patience=3,\n",
        "    verbose=1,\n",
        "    factor=0.5,\n",
        "    min_lr=0.00001\n",
        ")\n",
        "\n",
        "def create_model_checkpoint(file_path):\n",
        "    model_checkpoint = ModelCheckpoint(\n",
        "        filepath=file_path,\n",
        "        monitor='val_accuracy',\n",
        "        save_best_only=True,\n",
        "        save_weights_only=False,\n",
        "        mode='max',\n",
        "        verbose=1\n",
        "    )\n",
        "    return model_checkpoint"
      ],
      "metadata": {
        "id": "39mq3c4iookj"
      },
      "execution_count": 33,
      "outputs": []
    },
    {
      "cell_type": "code",
      "source": [
        "def load_dataset(file_path):\n",
        "    data_frame = pd.read_csv(file_path)\n",
        "    return data_frame"
      ],
      "metadata": {
        "id": "5zoxDsS2ooru"
      },
      "execution_count": 7,
      "outputs": []
    },
    {
      "cell_type": "code",
      "source": [
        "def preprocess_data(X, Y, test_size_first_split=0.2, test_size_second_split=0.1, random_state=42, add_dim=False):\n",
        "    X_train, X_test, y_train, y_test = train_test_split(X, Y, test_size=test_size_first_split, random_state=random_state, shuffle=True)\n",
        "\n",
        "    X_train, X_val, y_train, y_val = train_test_split(X_train, y_train, test_size=test_size_second_split, random_state=random_state, shuffle=True)\n",
        "\n",
        "    scaler = StandardScaler()\n",
        "    X_train = scaler.fit_transform(X_train)\n",
        "    X_test = scaler.transform(X_test)\n",
        "    X_val = scaler.transform(X_val)\n",
        "\n",
        "    return X_train, X_test, X_val, y_train, y_test, y_val"
      ],
      "metadata": {
        "id": "lu9JwpmAz9kO"
      },
      "execution_count": 8,
      "outputs": []
    },
    {
      "cell_type": "code",
      "source": [
        "def plot_training_history(history,dataset_name):\n",
        "    accuracy = history.history['accuracy']\n",
        "    val_accuracy = history.history['val_accuracy']\n",
        "\n",
        "    loss = history.history['loss']\n",
        "    val_loss = history.history['val_loss']\n",
        "\n",
        "    plt.figure(figsize=(12, 6))\n",
        "    plt.subplot(1, 2, 1)\n",
        "    plt.plot(accuracy, label='Training Accuracy')\n",
        "    plt.plot(val_accuracy, label='Validation Accuracy')\n",
        "    plt.title(f'Training and Validation Accuracy (for {dataset_name} dataset) {model_type} model')\n",
        "    plt.xlabel('Epochs')\n",
        "    plt.ylabel('Accuracy')\n",
        "    plt.legend()\n",
        "\n",
        "    plt.subplot(1, 2, 2)\n",
        "    plt.plot(loss, label='Training Loss')\n",
        "    plt.plot(val_loss, label='Validation Loss')\n",
        "    plt.title(f'Training and Validation Loss (for {dataset_name} dataset) {model_type} model')\n",
        "    plt.xlabel('Epochs')\n",
        "    plt.ylabel('Loss')\n",
        "    plt.legend()\n",
        "\n",
        "    plt.tight_layout()\n",
        "    plt.show()"
      ],
      "metadata": {
        "id": "6UWzKUlI5YNj"
      },
      "execution_count": 9,
      "outputs": []
    },
    {
      "cell_type": "markdown",
      "source": [
        "#CREMA"
      ],
      "metadata": {
        "id": "N-lNy5rg0EWc"
      }
    },
    {
      "cell_type": "code",
      "source": [
        "# Usage\n",
        "processed_crema_path = './crema_processed_data.csv'\n",
        "crema_df = load_dataset(processed_crema_path)\n",
        "print(\"Dataset shape:\", crema_df.shape)"
      ],
      "metadata": {
        "colab": {
          "base_uri": "https://localhost:8080/"
        },
        "id": "IzXzoQ7ey_i4",
        "outputId": "071fafdf-50a2-4780-897f-9a5a3c805e72"
      },
      "execution_count": 34,
      "outputs": [
        {
          "output_type": "stream",
          "name": "stdout",
          "text": [
            "Dataset shape: (29768, 2377)\n"
          ]
        }
      ]
    },
    {
      "cell_type": "code",
      "source": [
        "crema_df = crema_df.fillna(0)\n",
        "print(crema_df.isna().any())\n",
        "crema_df.shape\n",
        "X = crema_df.drop(labels='Emotion',axis=1)\n",
        "Y = crema_df['Emotion']"
      ],
      "metadata": {
        "id": "8zb3OsVUqT-s",
        "colab": {
          "base_uri": "https://localhost:8080/"
        },
        "outputId": "1ece6f86-251f-4bb4-c32d-e3b786cf8bb5"
      },
      "execution_count": 35,
      "outputs": [
        {
          "output_type": "stream",
          "name": "stdout",
          "text": [
            "0          False\n",
            "1          False\n",
            "2          False\n",
            "3          False\n",
            "4          False\n",
            "           ...  \n",
            "2372       False\n",
            "2373       False\n",
            "2374       False\n",
            "2375       False\n",
            "Emotion    False\n",
            "Length: 2377, dtype: bool\n"
          ]
        }
      ]
    },
    {
      "cell_type": "code",
      "source": [
        "label_encoder = LabelEncoder()\n",
        "Y = to_categorical(label_encoder.fit_transform(Y))\n",
        "Y"
      ],
      "metadata": {
        "id": "Zzh0ZbZXqT7G",
        "colab": {
          "base_uri": "https://localhost:8080/"
        },
        "outputId": "368cc300-0abf-42c1-9eed-6d2b83ec5d11"
      },
      "execution_count": 36,
      "outputs": [
        {
          "output_type": "execute_result",
          "data": {
            "text/plain": [
              "array([[0., 0., 1., 0., 0., 0.],\n",
              "       [0., 0., 1., 0., 0., 0.],\n",
              "       [0., 0., 1., 0., 0., 0.],\n",
              "       ...,\n",
              "       [0., 0., 0., 0., 1., 0.],\n",
              "       [0., 0., 0., 0., 1., 0.],\n",
              "       [0., 0., 0., 0., 1., 0.]], dtype=float32)"
            ]
          },
          "metadata": {},
          "execution_count": 36
        }
      ]
    },
    {
      "cell_type": "code",
      "source": [
        "X_train, X_test, X_val, y_train, y_test, y_val = preprocess_data(X, Y, add_dim=True)"
      ],
      "metadata": {
        "id": "lgXmkwGqyK1I"
      },
      "execution_count": 37,
      "outputs": []
    },
    {
      "cell_type": "code",
      "source": [
        "(X_train.shape[1], 1)"
      ],
      "metadata": {
        "colab": {
          "base_uri": "https://localhost:8080/"
        },
        "id": "rnLvZOUR-AKp",
        "outputId": "49b9f6b3-12ef-456b-89f9-e320c5fc23a2"
      },
      "execution_count": 38,
      "outputs": [
        {
          "output_type": "execute_result",
          "data": {
            "text/plain": [
              "(2376, 1)"
            ]
          },
          "metadata": {},
          "execution_count": 38
        }
      ]
    },
    {
      "cell_type": "code",
      "source": [
        "model_crema = create_model((X_train.shape[1], 1), 6, optimizer, model_loss)\n",
        "model_crema.summary()"
      ],
      "metadata": {
        "trusted": true,
        "id": "AlIISdPRViy-",
        "colab": {
          "base_uri": "https://localhost:8080/"
        },
        "outputId": "2b6687a7-0d95-4872-9045-711cfbfbf371"
      },
      "execution_count": 40,
      "outputs": [
        {
          "output_type": "stream",
          "name": "stdout",
          "text": [
            "Model: \"sequential_3\"\n",
            "_________________________________________________________________\n",
            " Layer (type)                Output Shape              Param #   \n",
            "=================================================================\n",
            " conv1d_15 (Conv1D)          (None, 2376, 512)         3072      \n",
            "                                                                 \n",
            " batch_normalization_18 (Ba  (None, 2376, 512)         2048      \n",
            " tchNormalization)                                               \n",
            "                                                                 \n",
            " max_pooling1d_15 (MaxPooli  (None, 1188, 512)         0         \n",
            " ng1D)                                                           \n",
            "                                                                 \n",
            " conv1d_16 (Conv1D)          (None, 1188, 512)         1311232   \n",
            "                                                                 \n",
            " batch_normalization_19 (Ba  (None, 1188, 512)         2048      \n",
            " tchNormalization)                                               \n",
            "                                                                 \n",
            " max_pooling1d_16 (MaxPooli  (None, 594, 512)          0         \n",
            " ng1D)                                                           \n",
            "                                                                 \n",
            " conv1d_17 (Conv1D)          (None, 594, 256)          655616    \n",
            "                                                                 \n",
            " batch_normalization_20 (Ba  (None, 594, 256)          1024      \n",
            " tchNormalization)                                               \n",
            "                                                                 \n",
            " max_pooling1d_17 (MaxPooli  (None, 297, 256)          0         \n",
            " ng1D)                                                           \n",
            "                                                                 \n",
            " conv1d_18 (Conv1D)          (None, 297, 256)          196864    \n",
            "                                                                 \n",
            " batch_normalization_21 (Ba  (None, 297, 256)          1024      \n",
            " tchNormalization)                                               \n",
            "                                                                 \n",
            " max_pooling1d_18 (MaxPooli  (None, 149, 256)          0         \n",
            " ng1D)                                                           \n",
            "                                                                 \n",
            " conv1d_19 (Conv1D)          (None, 149, 128)          98432     \n",
            "                                                                 \n",
            " batch_normalization_22 (Ba  (None, 149, 128)          512       \n",
            " tchNormalization)                                               \n",
            "                                                                 \n",
            " max_pooling1d_19 (MaxPooli  (None, 75, 128)           0         \n",
            " ng1D)                                                           \n",
            "                                                                 \n",
            " flatten_3 (Flatten)         (None, 9600)              0         \n",
            "                                                                 \n",
            " dense_6 (Dense)             (None, 512)               4915712   \n",
            "                                                                 \n",
            " batch_normalization_23 (Ba  (None, 512)               2048      \n",
            " tchNormalization)                                               \n",
            "                                                                 \n",
            " dense_7 (Dense)             (None, 6)                 3078      \n",
            "                                                                 \n",
            "=================================================================\n",
            "Total params: 7192710 (27.44 MB)\n",
            "Trainable params: 7188358 (27.42 MB)\n",
            "Non-trainable params: 4352 (17.00 KB)\n",
            "_________________________________________________________________\n"
          ]
        }
      ]
    },
    {
      "cell_type": "code",
      "source": [
        "model_path = './checkpoints/crema_cnn.h5'\n",
        "BATCH_SIZE=24\n",
        "history_crema=model_crema.fit(X_train, y_train, epochs=EPOCH, validation_data=(X_val,y_val), batch_size=BATCH_SIZE,callbacks=[early_stopping_callback,lr_scheduler, create_model_checkpoint(model_path)])"
      ],
      "metadata": {
        "colab": {
          "base_uri": "https://localhost:8080/"
        },
        "id": "GV7v05HcW5_E",
        "outputId": "e7cec528-5527-4b38-91cb-07855df7e0bb"
      },
      "execution_count": 41,
      "outputs": [
        {
          "output_type": "stream",
          "name": "stdout",
          "text": [
            "Epoch 1/50\n",
            "893/893 [==============================] - ETA: 0s - loss: 1.5993 - accuracy: 0.3719\n",
            "Epoch 1: val_accuracy improved from -inf to 0.41394, saving model to ./checkpoints/crema_cnn.h5\n",
            "893/893 [==============================] - 124s 136ms/step - loss: 1.5993 - accuracy: 0.3719 - val_loss: 1.4690 - val_accuracy: 0.4139 - lr: 0.0010\n",
            "Epoch 2/50\n",
            "893/893 [==============================] - ETA: 0s - loss: 1.4103 - accuracy: 0.4389\n",
            "Epoch 2: val_accuracy improved from 0.41394 to 0.43325, saving model to ./checkpoints/crema_cnn.h5\n",
            "893/893 [==============================] - 121s 135ms/step - loss: 1.4103 - accuracy: 0.4389 - val_loss: 1.4054 - val_accuracy: 0.4332 - lr: 0.0010\n",
            "Epoch 3/50\n",
            "893/893 [==============================] - ETA: 0s - loss: 1.3197 - accuracy: 0.4809\n",
            "Epoch 3: val_accuracy did not improve from 0.43325\n",
            "893/893 [==============================] - 120s 134ms/step - loss: 1.3197 - accuracy: 0.4809 - val_loss: 1.4661 - val_accuracy: 0.4123 - lr: 0.0010\n",
            "Epoch 4/50\n",
            "893/893 [==============================] - ETA: 0s - loss: 1.2331 - accuracy: 0.5175\n",
            "Epoch 4: val_accuracy improved from 0.43325 to 0.52309, saving model to ./checkpoints/crema_cnn.h5\n",
            "893/893 [==============================] - 120s 135ms/step - loss: 1.2331 - accuracy: 0.5175 - val_loss: 1.2384 - val_accuracy: 0.5231 - lr: 0.0010\n",
            "Epoch 5/50\n",
            "893/893 [==============================] - ETA: 0s - loss: 1.1407 - accuracy: 0.5547\n",
            "Epoch 5: val_accuracy did not improve from 0.52309\n",
            "893/893 [==============================] - 120s 134ms/step - loss: 1.1407 - accuracy: 0.5547 - val_loss: 1.5012 - val_accuracy: 0.4668 - lr: 0.0010\n",
            "Epoch 6/50\n",
            "893/893 [==============================] - ETA: 0s - loss: 1.0357 - accuracy: 0.6003\n",
            "Epoch 6: val_accuracy improved from 0.52309 to 0.59782, saving model to ./checkpoints/crema_cnn.h5\n",
            "893/893 [==============================] - 121s 136ms/step - loss: 1.0357 - accuracy: 0.6003 - val_loss: 1.0688 - val_accuracy: 0.5978 - lr: 0.0010\n",
            "Epoch 7/50\n",
            "893/893 [==============================] - ETA: 0s - loss: 0.9228 - accuracy: 0.6526\n",
            "Epoch 7: val_accuracy did not improve from 0.59782\n",
            "893/893 [==============================] - 120s 135ms/step - loss: 0.9228 - accuracy: 0.6526 - val_loss: 1.1916 - val_accuracy: 0.5529 - lr: 0.0010\n",
            "Epoch 8/50\n",
            "893/893 [==============================] - ETA: 0s - loss: 0.7582 - accuracy: 0.7186\n",
            "Epoch 8: val_accuracy improved from 0.59782 to 0.61923, saving model to ./checkpoints/crema_cnn.h5\n",
            "893/893 [==============================] - 121s 136ms/step - loss: 0.7582 - accuracy: 0.7186 - val_loss: 0.9985 - val_accuracy: 0.6192 - lr: 0.0010\n",
            "Epoch 9/50\n",
            "893/893 [==============================] - ETA: 0s - loss: 0.5776 - accuracy: 0.7905\n",
            "Epoch 9: val_accuracy improved from 0.61923 to 0.70907, saving model to ./checkpoints/crema_cnn.h5\n",
            "893/893 [==============================] - 120s 134ms/step - loss: 0.5776 - accuracy: 0.7905 - val_loss: 0.7960 - val_accuracy: 0.7091 - lr: 0.0010\n",
            "Epoch 10/50\n",
            "893/893 [==============================] - ETA: 0s - loss: 0.4624 - accuracy: 0.8334\n",
            "Epoch 10: val_accuracy improved from 0.70907 to 0.78086, saving model to ./checkpoints/crema_cnn.h5\n",
            "893/893 [==============================] - 121s 136ms/step - loss: 0.4624 - accuracy: 0.8334 - val_loss: 0.6503 - val_accuracy: 0.7809 - lr: 0.0010\n",
            "Epoch 11/50\n",
            "893/893 [==============================] - ETA: 0s - loss: 0.3123 - accuracy: 0.8922\n",
            "Epoch 11: val_accuracy did not improve from 0.78086\n",
            "893/893 [==============================] - 120s 135ms/step - loss: 0.3123 - accuracy: 0.8922 - val_loss: 0.7084 - val_accuracy: 0.7536 - lr: 0.0010\n",
            "Epoch 12/50\n",
            "893/893 [==============================] - ETA: 0s - loss: 0.2658 - accuracy: 0.9079\n",
            "Epoch 12: val_accuracy improved from 0.78086 to 0.83375, saving model to ./checkpoints/crema_cnn.h5\n",
            "893/893 [==============================] - 121s 136ms/step - loss: 0.2658 - accuracy: 0.9079 - val_loss: 0.4771 - val_accuracy: 0.8338 - lr: 0.0010\n",
            "Epoch 13/50\n",
            "893/893 [==============================] - ETA: 0s - loss: 0.1714 - accuracy: 0.9411\n",
            "Epoch 13: val_accuracy did not improve from 0.83375\n",
            "893/893 [==============================] - 120s 134ms/step - loss: 0.1714 - accuracy: 0.9411 - val_loss: 0.5635 - val_accuracy: 0.8170 - lr: 0.0010\n",
            "Epoch 14/50\n",
            "893/893 [==============================] - ETA: 0s - loss: 0.2152 - accuracy: 0.9250\n",
            "Epoch 14: val_accuracy improved from 0.83375 to 0.84215, saving model to ./checkpoints/crema_cnn.h5\n",
            "893/893 [==============================] - 120s 135ms/step - loss: 0.2152 - accuracy: 0.9250 - val_loss: 0.4889 - val_accuracy: 0.8421 - lr: 0.0010\n",
            "Epoch 15/50\n",
            "893/893 [==============================] - ETA: 0s - loss: 0.1432 - accuracy: 0.9517\n",
            "Epoch 15: val_accuracy improved from 0.84215 to 0.86356, saving model to ./checkpoints/crema_cnn.h5\n",
            "893/893 [==============================] - 121s 136ms/step - loss: 0.1432 - accuracy: 0.9517 - val_loss: 0.4297 - val_accuracy: 0.8636 - lr: 0.0010\n",
            "Epoch 16/50\n",
            "893/893 [==============================] - ETA: 0s - loss: 0.1393 - accuracy: 0.9530\n",
            "Epoch 16: val_accuracy did not improve from 0.86356\n",
            "893/893 [==============================] - 121s 135ms/step - loss: 0.1393 - accuracy: 0.9530 - val_loss: 0.5446 - val_accuracy: 0.8367 - lr: 0.0010\n",
            "Epoch 17/50\n",
            "893/893 [==============================] - ETA: 0s - loss: 0.1309 - accuracy: 0.9545\n",
            "Epoch 17: val_accuracy did not improve from 0.86356\n",
            "893/893 [==============================] - 121s 135ms/step - loss: 0.1309 - accuracy: 0.9545 - val_loss: 0.6040 - val_accuracy: 0.8161 - lr: 0.0010\n",
            "Epoch 18/50\n",
            "893/893 [==============================] - ETA: 0s - loss: 0.1431 - accuracy: 0.9502\n",
            "Epoch 18: val_accuracy improved from 0.86356 to 0.86398, saving model to ./checkpoints/crema_cnn.h5\n",
            "893/893 [==============================] - 121s 135ms/step - loss: 0.1431 - accuracy: 0.9502 - val_loss: 0.4532 - val_accuracy: 0.8640 - lr: 0.0010\n",
            "Epoch 19/50\n",
            "893/893 [==============================] - ETA: 0s - loss: 0.1206 - accuracy: 0.9591\n",
            "Epoch 19: val_accuracy did not improve from 0.86398\n",
            "893/893 [==============================] - 120s 134ms/step - loss: 0.1206 - accuracy: 0.9591 - val_loss: 0.6683 - val_accuracy: 0.7997 - lr: 0.0010\n",
            "Epoch 20/50\n",
            "893/893 [==============================] - ETA: 0s - loss: 0.1175 - accuracy: 0.9590\n",
            "Epoch 20: val_accuracy improved from 0.86398 to 0.87909, saving model to ./checkpoints/crema_cnn.h5\n",
            "893/893 [==============================] - 122s 136ms/step - loss: 0.1175 - accuracy: 0.9590 - val_loss: 0.4530 - val_accuracy: 0.8791 - lr: 0.0010\n",
            "Epoch 21/50\n",
            "893/893 [==============================] - ETA: 0s - loss: 0.0840 - accuracy: 0.9715\n",
            "Epoch 21: val_accuracy did not improve from 0.87909\n",
            "893/893 [==============================] - 119s 134ms/step - loss: 0.0840 - accuracy: 0.9715 - val_loss: 0.4229 - val_accuracy: 0.8749 - lr: 0.0010\n",
            "Epoch 22/50\n",
            "893/893 [==============================] - ETA: 0s - loss: 0.0948 - accuracy: 0.9672\n",
            "Epoch 22: val_accuracy improved from 0.87909 to 0.89001, saving model to ./checkpoints/crema_cnn.h5\n",
            "893/893 [==============================] - 122s 136ms/step - loss: 0.0948 - accuracy: 0.9672 - val_loss: 0.4417 - val_accuracy: 0.8900 - lr: 0.0010\n",
            "Epoch 23/50\n",
            "893/893 [==============================] - ETA: 0s - loss: 0.0794 - accuracy: 0.9735\n",
            "Epoch 23: val_accuracy did not improve from 0.89001\n",
            "893/893 [==============================] - 121s 135ms/step - loss: 0.0794 - accuracy: 0.9735 - val_loss: 0.4741 - val_accuracy: 0.8678 - lr: 0.0010\n",
            "Epoch 24/50\n",
            "893/893 [==============================] - ETA: 0s - loss: 0.0865 - accuracy: 0.9697\n",
            "Epoch 24: val_accuracy improved from 0.89001 to 0.89924, saving model to ./checkpoints/crema_cnn.h5\n",
            "893/893 [==============================] - 122s 136ms/step - loss: 0.0865 - accuracy: 0.9697 - val_loss: 0.3550 - val_accuracy: 0.8992 - lr: 0.0010\n",
            "Epoch 25/50\n",
            "893/893 [==============================] - ETA: 0s - loss: 0.0747 - accuracy: 0.9735\n",
            "Epoch 25: val_accuracy did not improve from 0.89924\n",
            "893/893 [==============================] - 121s 135ms/step - loss: 0.0747 - accuracy: 0.9735 - val_loss: 0.4018 - val_accuracy: 0.8963 - lr: 0.0010\n",
            "Epoch 26/50\n",
            "893/893 [==============================] - ETA: 0s - loss: 0.0582 - accuracy: 0.9807\n",
            "Epoch 26: val_accuracy improved from 0.89924 to 0.90050, saving model to ./checkpoints/crema_cnn.h5\n",
            "893/893 [==============================] - 122s 136ms/step - loss: 0.0582 - accuracy: 0.9807 - val_loss: 0.3887 - val_accuracy: 0.9005 - lr: 0.0010\n",
            "Epoch 27/50\n",
            "893/893 [==============================] - ETA: 0s - loss: 0.0743 - accuracy: 0.9739\n",
            "Epoch 27: val_accuracy did not improve from 0.90050\n",
            "893/893 [==============================] - 120s 134ms/step - loss: 0.0743 - accuracy: 0.9739 - val_loss: 0.4153 - val_accuracy: 0.8997 - lr: 0.0010\n",
            "Epoch 28/50\n",
            "893/893 [==============================] - ETA: 0s - loss: 0.1001 - accuracy: 0.9667\n",
            "Epoch 28: val_accuracy improved from 0.90050 to 0.91058, saving model to ./checkpoints/crema_cnn.h5\n",
            "893/893 [==============================] - 126s 141ms/step - loss: 0.1001 - accuracy: 0.9667 - val_loss: 0.3634 - val_accuracy: 0.9106 - lr: 0.0010\n",
            "Epoch 29/50\n",
            "893/893 [==============================] - ETA: 0s - loss: 0.0574 - accuracy: 0.9802\n",
            "Epoch 29: val_accuracy improved from 0.91058 to 0.91352, saving model to ./checkpoints/crema_cnn.h5\n",
            "893/893 [==============================] - 121s 136ms/step - loss: 0.0574 - accuracy: 0.9802 - val_loss: 0.3177 - val_accuracy: 0.9135 - lr: 0.0010\n",
            "Epoch 30/50\n",
            "893/893 [==============================] - ETA: 0s - loss: 0.0559 - accuracy: 0.9811\n",
            "Epoch 30: val_accuracy did not improve from 0.91352\n",
            "893/893 [==============================] - 121s 135ms/step - loss: 0.0559 - accuracy: 0.9811 - val_loss: 0.3771 - val_accuracy: 0.9030 - lr: 0.0010\n",
            "Epoch 31/50\n",
            "893/893 [==============================] - ETA: 0s - loss: 0.1041 - accuracy: 0.9667\n",
            "Epoch 31: val_accuracy did not improve from 0.91352\n",
            "893/893 [==============================] - 121s 135ms/step - loss: 0.1041 - accuracy: 0.9667 - val_loss: 2.5274 - val_accuracy: 0.5869 - lr: 0.0010\n",
            "Epoch 32/50\n",
            "893/893 [==============================] - ETA: 0s - loss: 0.1194 - accuracy: 0.9608\n",
            "Epoch 32: ReduceLROnPlateau reducing learning rate to 0.0005000000237487257.\n",
            "\n",
            "Epoch 32: val_accuracy did not improve from 0.91352\n",
            "893/893 [==============================] - 120s 135ms/step - loss: 0.1194 - accuracy: 0.9608 - val_loss: 0.3677 - val_accuracy: 0.9055 - lr: 0.0010\n",
            "Epoch 33/50\n",
            "893/893 [==============================] - ETA: 0s - loss: 0.0374 - accuracy: 0.9877\n",
            "Epoch 33: val_accuracy improved from 0.91352 to 0.93241, saving model to ./checkpoints/crema_cnn.h5\n",
            "893/893 [==============================] - 120s 135ms/step - loss: 0.0374 - accuracy: 0.9877 - val_loss: 0.2747 - val_accuracy: 0.9324 - lr: 5.0000e-04\n",
            "Epoch 34/50\n",
            "893/893 [==============================] - ETA: 0s - loss: 0.0225 - accuracy: 0.9927\n",
            "Epoch 34: val_accuracy improved from 0.93241 to 0.93619, saving model to ./checkpoints/crema_cnn.h5\n",
            "893/893 [==============================] - 120s 135ms/step - loss: 0.0225 - accuracy: 0.9927 - val_loss: 0.2693 - val_accuracy: 0.9362 - lr: 5.0000e-04\n",
            "Epoch 35/50\n",
            "893/893 [==============================] - ETA: 0s - loss: 0.0182 - accuracy: 0.9944\n",
            "Epoch 35: val_accuracy did not improve from 0.93619\n",
            "893/893 [==============================] - 119s 133ms/step - loss: 0.0182 - accuracy: 0.9944 - val_loss: 0.2777 - val_accuracy: 0.9286 - lr: 5.0000e-04\n",
            "Epoch 36/50\n",
            "893/893 [==============================] - ETA: 0s - loss: 0.0197 - accuracy: 0.9936\n",
            "Epoch 36: val_accuracy improved from 0.93619 to 0.93787, saving model to ./checkpoints/crema_cnn.h5\n",
            "893/893 [==============================] - 121s 136ms/step - loss: 0.0197 - accuracy: 0.9936 - val_loss: 0.2492 - val_accuracy: 0.9379 - lr: 5.0000e-04\n",
            "Epoch 37/50\n",
            "893/893 [==============================] - ETA: 0s - loss: 0.0174 - accuracy: 0.9945\n",
            "Epoch 37: val_accuracy improved from 0.93787 to 0.93913, saving model to ./checkpoints/crema_cnn.h5\n",
            "893/893 [==============================] - 120s 135ms/step - loss: 0.0174 - accuracy: 0.9945 - val_loss: 0.2647 - val_accuracy: 0.9391 - lr: 5.0000e-04\n",
            "Epoch 38/50\n",
            "893/893 [==============================] - ETA: 0s - loss: 0.0152 - accuracy: 0.9952\n",
            "Epoch 38: val_accuracy improved from 0.93913 to 0.93955, saving model to ./checkpoints/crema_cnn.h5\n",
            "893/893 [==============================] - 121s 136ms/step - loss: 0.0152 - accuracy: 0.9952 - val_loss: 0.2497 - val_accuracy: 0.9395 - lr: 5.0000e-04\n",
            "Epoch 39/50\n",
            "893/893 [==============================] - ETA: 0s - loss: 0.0143 - accuracy: 0.9957\n",
            "Epoch 39: val_accuracy did not improve from 0.93955\n",
            "893/893 [==============================] - 121s 135ms/step - loss: 0.0143 - accuracy: 0.9957 - val_loss: 0.2499 - val_accuracy: 0.9383 - lr: 5.0000e-04\n",
            "Epoch 40/50\n",
            "893/893 [==============================] - ETA: 0s - loss: 0.0166 - accuracy: 0.9947\n",
            "Epoch 40: val_accuracy did not improve from 0.93955\n",
            "893/893 [==============================] - 121s 136ms/step - loss: 0.0166 - accuracy: 0.9947 - val_loss: 0.2673 - val_accuracy: 0.9295 - lr: 5.0000e-04\n",
            "Epoch 41/50\n",
            "893/893 [==============================] - ETA: 0s - loss: 0.0120 - accuracy: 0.9963\n",
            "Epoch 41: val_accuracy improved from 0.93955 to 0.94500, saving model to ./checkpoints/crema_cnn.h5\n",
            "893/893 [==============================] - 122s 137ms/step - loss: 0.0120 - accuracy: 0.9963 - val_loss: 0.2564 - val_accuracy: 0.9450 - lr: 5.0000e-04\n",
            "Epoch 42/50\n",
            "893/893 [==============================] - ETA: 0s - loss: 0.0166 - accuracy: 0.9949\n",
            "Epoch 42: val_accuracy did not improve from 0.94500\n",
            "893/893 [==============================] - 120s 134ms/step - loss: 0.0166 - accuracy: 0.9949 - val_loss: 0.2754 - val_accuracy: 0.9345 - lr: 5.0000e-04\n",
            "Epoch 43/50\n",
            "893/893 [==============================] - ETA: 0s - loss: 0.0176 - accuracy: 0.9938\n",
            "Epoch 43: val_accuracy did not improve from 0.94500\n",
            "893/893 [==============================] - 121s 136ms/step - loss: 0.0176 - accuracy: 0.9938 - val_loss: 0.2822 - val_accuracy: 0.9349 - lr: 5.0000e-04\n",
            "Epoch 44/50\n",
            "893/893 [==============================] - ETA: 0s - loss: 0.0185 - accuracy: 0.9935\n",
            "Epoch 44: ReduceLROnPlateau reducing learning rate to 0.0002500000118743628.\n",
            "\n",
            "Epoch 44: val_accuracy did not improve from 0.94500\n",
            "893/893 [==============================] - 120s 134ms/step - loss: 0.0185 - accuracy: 0.9935 - val_loss: 0.2452 - val_accuracy: 0.9400 - lr: 5.0000e-04\n",
            "Epoch 45/50\n",
            "893/893 [==============================] - ETA: 0s - loss: 0.0076 - accuracy: 0.9978\n",
            "Epoch 45: val_accuracy improved from 0.94500 to 0.95004, saving model to ./checkpoints/crema_cnn.h5\n",
            "893/893 [==============================] - 121s 135ms/step - loss: 0.0076 - accuracy: 0.9978 - val_loss: 0.2189 - val_accuracy: 0.9500 - lr: 2.5000e-04\n",
            "Epoch 46/50\n",
            "893/893 [==============================] - ETA: 0s - loss: 0.0071 - accuracy: 0.9979\n",
            "Epoch 46: val_accuracy improved from 0.95004 to 0.95130, saving model to ./checkpoints/crema_cnn.h5\n",
            "893/893 [==============================] - 122s 137ms/step - loss: 0.0071 - accuracy: 0.9979 - val_loss: 0.2083 - val_accuracy: 0.9513 - lr: 2.5000e-04\n",
            "Epoch 47/50\n",
            "893/893 [==============================] - ETA: 0s - loss: 0.0056 - accuracy: 0.9984\n",
            "Epoch 47: val_accuracy improved from 0.95130 to 0.95256, saving model to ./checkpoints/crema_cnn.h5\n",
            "893/893 [==============================] - 121s 135ms/step - loss: 0.0056 - accuracy: 0.9984 - val_loss: 0.2072 - val_accuracy: 0.9526 - lr: 2.5000e-04\n",
            "Epoch 48/50\n",
            "893/893 [==============================] - ETA: 0s - loss: 0.0063 - accuracy: 0.9980\n",
            "Epoch 48: val_accuracy did not improve from 0.95256\n",
            "893/893 [==============================] - 121s 136ms/step - loss: 0.0063 - accuracy: 0.9980 - val_loss: 0.2023 - val_accuracy: 0.9526 - lr: 2.5000e-04\n",
            "Epoch 49/50\n",
            "893/893 [==============================] - ETA: 0s - loss: 0.0052 - accuracy: 0.9987\n",
            "Epoch 49: val_accuracy improved from 0.95256 to 0.95676, saving model to ./checkpoints/crema_cnn.h5\n",
            "893/893 [==============================] - 121s 136ms/step - loss: 0.0052 - accuracy: 0.9987 - val_loss: 0.2125 - val_accuracy: 0.9568 - lr: 2.5000e-04\n",
            "Epoch 50/50\n",
            "893/893 [==============================] - ETA: 0s - loss: 0.0058 - accuracy: 0.9983\n",
            "Epoch 50: val_accuracy did not improve from 0.95676\n",
            "893/893 [==============================] - 120s 134ms/step - loss: 0.0058 - accuracy: 0.9983 - val_loss: 0.2249 - val_accuracy: 0.9492 - lr: 2.5000e-04\n"
          ]
        }
      ]
    },
    {
      "cell_type": "code",
      "source": [
        "plot_training_history(history_crema,\"Crema\")"
      ],
      "metadata": {
        "colab": {
          "base_uri": "https://localhost:8080/",
          "height": 607
        },
        "id": "ycHas0rxX7FN",
        "outputId": "2d6f3c06-96fa-402a-95b1-aa75426135ed"
      },
      "execution_count": 42,
      "outputs": [
        {
          "output_type": "display_data",
          "data": {
            "text/plain": [
              "<Figure size 1200x600 with 2 Axes>"
            ],
            "image/png": "[encoded data removed]"
          },
          "metadata": {}
        }
      ]
    },
    {
      "cell_type": "code",
      "source": [
        "y_pred = model_crema.predict(X_test)\n",
        "y_pred = np.argmax(y_pred, axis=1)\n",
        "y_pred"
      ],
      "metadata": {
        "colab": {
          "base_uri": "https://localhost:8080/"
        },
        "id": "rFZPaGdlYV8w",
        "outputId": "0a02ec84-6063-4579-eff6-ad4c648c3d10"
      },
      "execution_count": 43,
      "outputs": [
        {
          "output_type": "stream",
          "name": "stdout",
          "text": [
            "187/187 [==============================] - 9s 46ms/step\n"
          ]
        },
        {
          "output_type": "execute_result",
          "data": {
            "text/plain": [
              "array([0, 3, 1, ..., 5, 5, 2])"
            ]
          },
          "metadata": {},
          "execution_count": 43
        }
      ]
    },
    {
      "cell_type": "code",
      "source": [
        "y_check=np.argmax(y_test,axis=1)\n",
        "y_check"
      ],
      "metadata": {
        "colab": {
          "base_uri": "https://localhost:8080/"
        },
        "id": "ptxw9eV8YaaL",
        "outputId": "3dd85ec5-c4a1-4d7a-80ca-eef0ec04e40a"
      },
      "execution_count": 44,
      "outputs": [
        {
          "output_type": "execute_result",
          "data": {
            "text/plain": [
              "array([0, 3, 1, ..., 5, 5, 3])"
            ]
          },
          "metadata": {},
          "execution_count": 44
        }
      ]
    },
    {
      "cell_type": "code",
      "source": [
        "loss,accuracy=model_crema.evaluate(X_test,y_test,verbose=0)\n",
        "print(f'Test Loss: {loss}')\n",
        "print(f'Test Accuracy: {accuracy}')"
      ],
      "metadata": {
        "colab": {
          "base_uri": "https://localhost:8080/"
        },
        "id": "Gmyz32l4YhsP",
        "outputId": "123479f0-7b98-405d-f028-3dff9728a730"
      },
      "execution_count": 45,
      "outputs": [
        {
          "output_type": "stream",
          "name": "stdout",
          "text": [
            "Test Loss: 0.23318763077259064\n",
            "Test Accuracy: 0.9482700824737549\n"
          ]
        }
      ]
    },
    {
      "cell_type": "code",
      "source": [
        "conf=confusion_matrix(y_check,y_pred)\n",
        "conf"
      ],
      "metadata": {
        "colab": {
          "base_uri": "https://localhost:8080/"
        },
        "id": "p_KMM9MWbJXm",
        "outputId": "97cabeb8-3760-4873-e228-e29fc1a79891"
      },
      "execution_count": 46,
      "outputs": [
        {
          "output_type": "execute_result",
          "data": {
            "text/plain": [
              "array([[946,  10,  13,   9,   2,   0],\n",
              "       [ 19, 941,   9,   3,   7,  22],\n",
              "       [  9,   8, 968,  13,   8,  19],\n",
              "       [ 24,  16,  11, 994,   9,   6],\n",
              "       [  4,   8,   9,   6, 814,  16],\n",
              "       [  1,  16,  22,   3,   6, 983]])"
            ]
          },
          "metadata": {},
          "execution_count": 46
        }
      ]
    },
    {
      "cell_type": "code",
      "source": [
        "# emotion_names = ['neutral', 'happy', 'sad', 'angry', 'fear', 'disgust', 'surprise']\n",
        "emotion_names = ['neutral', 'happy', 'sad', 'angry', 'fear', 'disgust']\n",
        "conf=confusion_matrix(y_check,y_pred)\n",
        "cm=pd.DataFrame(\n",
        "    conf,index=[i for i in emotion_names],\n",
        "    columns=[i for i in emotion_names]\n",
        ")\n",
        "plt.figure(figsize=(12,7))\n",
        "ax=sns.heatmap(cm,annot=True,fmt='d')\n",
        "ax.set_title(f'Confusion matrix for Crema dataset {model_type} model')\n",
        "plt.show()"
      ],
      "metadata": {
        "colab": {
          "base_uri": "https://localhost:8080/",
          "height": 622
        },
        "id": "z6m3gyJDas9l",
        "outputId": "1ba4dccc-c60e-468d-8a37-0e14b01c6a20"
      },
      "execution_count": 47,
      "outputs": [
        {
          "output_type": "display_data",
          "data": {
            "text/plain": [
              "<Figure size 1200x700 with 2 Axes>"
            ],
            "image/png": "[encoded data removed]"
          },
          "metadata": {}
        }
      ]
    },
    {
      "cell_type": "code",
      "source": [
        "print(f'Crema dataset {model_type} model Confusion Matrix \\n',classification_report(y_check,y_pred,target_names=emotion_names))"
      ],
      "metadata": {
        "colab": {
          "base_uri": "https://localhost:8080/"
        },
        "id": "NL6T-uCFavTs",
        "outputId": "51c7ffa1-b940-4211-df69-989fb769d86e"
      },
      "execution_count": 48,
      "outputs": [
        {
          "output_type": "stream",
          "name": "stdout",
          "text": [
            "Crema dataset CNN based model Confusion Matrix \n",
            "               precision    recall  f1-score   support\n",
            "\n",
            "     neutral       0.94      0.97      0.95       980\n",
            "       happy       0.94      0.94      0.94      1001\n",
            "         sad       0.94      0.94      0.94      1025\n",
            "       angry       0.97      0.94      0.95      1060\n",
            "        fear       0.96      0.95      0.96       857\n",
            "     disgust       0.94      0.95      0.95      1031\n",
            "\n",
            "    accuracy                           0.95      5954\n",
            "   macro avg       0.95      0.95      0.95      5954\n",
            "weighted avg       0.95      0.95      0.95      5954\n",
            "\n"
          ]
        }
      ]
    },
    {
      "cell_type": "code",
      "source": [],
      "metadata": {
        "id": "JM14JQFq3JQF"
      },
      "execution_count": null,
      "outputs": []
    },
    {
      "cell_type": "markdown",
      "source": [
        "#Ravdess"
      ],
      "metadata": {
        "id": "AH-8MiXJ3KbF"
      }
    },
    {
      "cell_type": "code",
      "source": [
        "# Usage\n",
        "processed_ravdess_path = './ravdess_processed_data.csv'\n",
        "ravdess_df = load_dataset(processed_ravdess_path)\n",
        "print(\"Dataset shape:\", ravdess_df.shape)\n",
        "BATCH_SIZE=64"
      ],
      "metadata": {
        "colab": {
          "base_uri": "https://localhost:8080/"
        },
        "outputId": "7136edde-d4af-4a05-e9c7-be8bfd8e9749",
        "id": "jcZAP6YA3KbM"
      },
      "execution_count": 49,
      "outputs": [
        {
          "output_type": "stream",
          "name": "stdout",
          "text": [
            "Dataset shape: (5760, 2377)\n"
          ]
        }
      ]
    },
    {
      "cell_type": "code",
      "source": [
        "ravdess_df = ravdess_df.fillna(0)\n",
        "print(ravdess_df.isna().any())\n",
        "ravdess_df.shape\n",
        "X = ravdess_df.drop(labels='Emotion',axis=1)\n",
        "Y = ravdess_df['Emotion']"
      ],
      "metadata": {
        "colab": {
          "base_uri": "https://localhost:8080/"
        },
        "outputId": "11dab622-2562-4061-f165-723c81117acc",
        "id": "vEiyYjb-3KbN"
      },
      "execution_count": 50,
      "outputs": [
        {
          "output_type": "stream",
          "name": "stdout",
          "text": [
            "0          False\n",
            "1          False\n",
            "2          False\n",
            "3          False\n",
            "4          False\n",
            "           ...  \n",
            "2372       False\n",
            "2373       False\n",
            "2374       False\n",
            "2375       False\n",
            "Emotion    False\n",
            "Length: 2377, dtype: bool\n"
          ]
        }
      ]
    },
    {
      "cell_type": "code",
      "source": [
        "label_encoder = LabelEncoder()\n",
        "Y = to_categorical(label_encoder.fit_transform(Y))\n",
        "Y"
      ],
      "metadata": {
        "colab": {
          "base_uri": "https://localhost:8080/"
        },
        "outputId": "f9990078-26d1-460d-a417-bfc347de98f0",
        "id": "wHiGQ0hL3KbN"
      },
      "execution_count": 51,
      "outputs": [
        {
          "output_type": "execute_result",
          "data": {
            "text/plain": [
              "array([[0., 0., 0., ..., 1., 0., 0.],\n",
              "       [0., 0., 0., ..., 1., 0., 0.],\n",
              "       [0., 0., 0., ..., 1., 0., 0.],\n",
              "       ...,\n",
              "       [0., 0., 0., ..., 0., 0., 1.],\n",
              "       [0., 0., 0., ..., 0., 0., 1.],\n",
              "       [0., 0., 0., ..., 0., 0., 1.]], dtype=float32)"
            ]
          },
          "metadata": {},
          "execution_count": 51
        }
      ]
    },
    {
      "cell_type": "code",
      "source": [
        "X_train, X_test, X_val, y_train, y_test, y_val = preprocess_data(X, Y, add_dim=True)"
      ],
      "metadata": {
        "id": "OA9t-urO3KbN"
      },
      "execution_count": 52,
      "outputs": []
    },
    {
      "cell_type": "code",
      "source": [
        "model_ravdess = create_model((X_train.shape[1], 1), 7, optimizer, model_loss)\n",
        "model_ravdess.summary()"
      ],
      "metadata": {
        "trusted": true,
        "colab": {
          "base_uri": "https://localhost:8080/"
        },
        "outputId": "ddff0618-26d6-4769-cc5e-e8d2d68eb665",
        "id": "s0sq-aAp3KbN"
      },
      "execution_count": 53,
      "outputs": [
        {
          "output_type": "stream",
          "name": "stdout",
          "text": [
            "Model: \"sequential_4\"\n",
            "_________________________________________________________________\n",
            " Layer (type)                Output Shape              Param #   \n",
            "=================================================================\n",
            " conv1d_20 (Conv1D)          (None, 2376, 512)         3072      \n",
            "                                                                 \n",
            " batch_normalization_24 (Ba  (None, 2376, 512)         2048      \n",
            " tchNormalization)                                               \n",
            "                                                                 \n",
            " max_pooling1d_20 (MaxPooli  (None, 1188, 512)         0         \n",
            " ng1D)                                                           \n",
            "                                                                 \n",
            " conv1d_21 (Conv1D)          (None, 1188, 512)         1311232   \n",
            "                                                                 \n",
            " batch_normalization_25 (Ba  (None, 1188, 512)         2048      \n",
            " tchNormalization)                                               \n",
            "                                                                 \n",
            " max_pooling1d_21 (MaxPooli  (None, 594, 512)          0         \n",
            " ng1D)                                                           \n",
            "                                                                 \n",
            " conv1d_22 (Conv1D)          (None, 594, 256)          655616    \n",
            "                                                                 \n",
            " batch_normalization_26 (Ba  (None, 594, 256)          1024      \n",
            " tchNormalization)                                               \n",
            "                                                                 \n",
            " max_pooling1d_22 (MaxPooli  (None, 297, 256)          0         \n",
            " ng1D)                                                           \n",
            "                                                                 \n",
            " conv1d_23 (Conv1D)          (None, 297, 256)          196864    \n",
            "                                                                 \n",
            " batch_normalization_27 (Ba  (None, 297, 256)          1024      \n",
            " tchNormalization)                                               \n",
            "                                                                 \n",
            " max_pooling1d_23 (MaxPooli  (None, 149, 256)          0         \n",
            " ng1D)                                                           \n",
            "                                                                 \n",
            " conv1d_24 (Conv1D)          (None, 149, 128)          98432     \n",
            "                                                                 \n",
            " batch_normalization_28 (Ba  (None, 149, 128)          512       \n",
            " tchNormalization)                                               \n",
            "                                                                 \n",
            " max_pooling1d_24 (MaxPooli  (None, 75, 128)           0         \n",
            " ng1D)                                                           \n",
            "                                                                 \n",
            " flatten_4 (Flatten)         (None, 9600)              0         \n",
            "                                                                 \n",
            " dense_8 (Dense)             (None, 512)               4915712   \n",
            "                                                                 \n",
            " batch_normalization_29 (Ba  (None, 512)               2048      \n",
            " tchNormalization)                                               \n",
            "                                                                 \n",
            " dense_9 (Dense)             (None, 7)                 3591      \n",
            "                                                                 \n",
            "=================================================================\n",
            "Total params: 7193223 (27.44 MB)\n",
            "Trainable params: 7188871 (27.42 MB)\n",
            "Non-trainable params: 4352 (17.00 KB)\n",
            "_________________________________________________________________\n"
          ]
        }
      ]
    },
    {
      "cell_type": "code",
      "source": [
        "model_path = './checkpoints/ravdess_cnn.h5'\n",
        "history_ravdess=model_ravdess.fit(X_train, y_train, epochs=EPOCH, validation_data=(X_val,y_val), batch_size=BATCH_SIZE,callbacks=[early_stopping_callback,lr_scheduler, create_model_checkpoint(model_path)])"
      ],
      "metadata": {
        "colab": {
          "base_uri": "https://localhost:8080/"
        },
        "outputId": "776f22a1-27d1-48a4-9718-7028d755e9ca",
        "id": "pDke8lMz3KbN"
      },
      "execution_count": 54,
      "outputs": [
        {
          "output_type": "stream",
          "name": "stdout",
          "text": [
            "Epoch 1/50\n",
            "65/65 [==============================] - ETA: 0s - loss: 1.6690 - accuracy: 0.4478\n",
            "Epoch 1: val_accuracy improved from -inf to 0.21692, saving model to ./checkpoints/ravdess_cnn.h5\n",
            "65/65 [==============================] - 24s 343ms/step - loss: 1.6690 - accuracy: 0.4478 - val_loss: 6.0601 - val_accuracy: 0.2169 - lr: 2.5000e-04\n",
            "Epoch 2/50\n",
            "65/65 [==============================] - ETA: 0s - loss: 0.9997 - accuracy: 0.6306\n",
            "Epoch 2: val_accuracy did not improve from 0.21692\n",
            "65/65 [==============================] - 21s 324ms/step - loss: 0.9997 - accuracy: 0.6306 - val_loss: 6.8913 - val_accuracy: 0.1280 - lr: 2.5000e-04\n",
            "Epoch 3/50\n",
            "65/65 [==============================] - ETA: 0s - loss: 0.7117 - accuracy: 0.7574\n",
            "Epoch 3: val_accuracy did not improve from 0.21692\n",
            "65/65 [==============================] - 20s 313ms/step - loss: 0.7117 - accuracy: 0.7574 - val_loss: 8.4716 - val_accuracy: 0.1280 - lr: 2.5000e-04\n",
            "Epoch 4/50\n",
            "65/65 [==============================] - ETA: 0s - loss: 0.4784 - accuracy: 0.8437\n",
            "Epoch 4: ReduceLROnPlateau reducing learning rate to 0.0001250000059371814.\n",
            "\n",
            "Epoch 4: val_accuracy did not improve from 0.21692\n",
            "65/65 [==============================] - 20s 314ms/step - loss: 0.4784 - accuracy: 0.8437 - val_loss: 10.9059 - val_accuracy: 0.1280 - lr: 2.5000e-04\n",
            "Epoch 5/50\n",
            "65/65 [==============================] - ETA: 0s - loss: 0.2376 - accuracy: 0.9390\n",
            "Epoch 5: val_accuracy did not improve from 0.21692\n",
            "65/65 [==============================] - 21s 320ms/step - loss: 0.2376 - accuracy: 0.9390 - val_loss: 10.3838 - val_accuracy: 0.1432 - lr: 1.2500e-04\n",
            "Epoch 6/50\n",
            "65/65 [==============================] - ETA: 0s - loss: 0.1224 - accuracy: 0.9788\n",
            "Epoch 6: val_accuracy did not improve from 0.21692\n",
            "65/65 [==============================] - 21s 320ms/step - loss: 0.1224 - accuracy: 0.9788 - val_loss: 7.9019 - val_accuracy: 0.1627 - lr: 1.2500e-04\n"
          ]
        }
      ]
    },
    {
      "cell_type": "code",
      "source": [
        "plot_training_history(history_ravdess,\"Ravdess\")"
      ],
      "metadata": {
        "colab": {
          "base_uri": "https://localhost:8080/",
          "height": 607
        },
        "outputId": "238ee0fc-4de1-478d-cdb7-a7e4ff128670",
        "id": "Cv8rLs923KbN"
      },
      "execution_count": 55,
      "outputs": [
        {
          "output_type": "display_data",
          "data": {
            "text/plain": [
              "<Figure size 1200x600 with 2 Axes>"
            ],
            "image/png": "[encoded data removed]"
          },
          "metadata": {}
        }
      ]
    },
    {
      "cell_type": "code",
      "source": [
        "y_pred = model_ravdess.predict(X_test)\n",
        "y_pred = np.argmax(y_pred, axis=1)\n",
        "y_pred"
      ],
      "metadata": {
        "colab": {
          "base_uri": "https://localhost:8080/"
        },
        "outputId": "75e83326-ac91-4f9e-853f-2bbfcfa0ada8",
        "id": "VRkmA5NL3KbN"
      },
      "execution_count": 56,
      "outputs": [
        {
          "output_type": "stream",
          "name": "stdout",
          "text": [
            "36/36 [==============================] - 2s 45ms/step\n"
          ]
        },
        {
          "output_type": "execute_result",
          "data": {
            "text/plain": [
              "array([4, 4, 4, ..., 4, 4, 4])"
            ]
          },
          "metadata": {},
          "execution_count": 56
        }
      ]
    },
    {
      "cell_type": "code",
      "source": [
        "y_check=np.argmax(y_test,axis=1)\n",
        "y_check"
      ],
      "metadata": {
        "colab": {
          "base_uri": "https://localhost:8080/"
        },
        "outputId": "c62bc6ed-087d-43fc-be74-21bb48f5ed23",
        "id": "yvGon6dS3KbN"
      },
      "execution_count": 57,
      "outputs": [
        {
          "output_type": "execute_result",
          "data": {
            "text/plain": [
              "array([3, 4, 4, ..., 5, 6, 6])"
            ]
          },
          "metadata": {},
          "execution_count": 57
        }
      ]
    },
    {
      "cell_type": "code",
      "source": [
        "loss,accuracy=model_ravdess.evaluate(X_test,y_test,verbose=0)\n",
        "print(f'Test Loss: {loss}')\n",
        "print(f'Test Accuracy: {accuracy}')"
      ],
      "metadata": {
        "colab": {
          "base_uri": "https://localhost:8080/"
        },
        "outputId": "f76456e9-ac72-418b-ac1e-8351e6c0e7a9",
        "id": "3sdKVoUy3KbN"
      },
      "execution_count": 58,
      "outputs": [
        {
          "output_type": "stream",
          "name": "stdout",
          "text": [
            "Test Loss: 5.916146755218506\n",
            "Test Accuracy: 0.2100694477558136\n"
          ]
        }
      ]
    },
    {
      "cell_type": "code",
      "source": [
        "conf=confusion_matrix(y_check,y_pred)\n",
        "conf"
      ],
      "metadata": {
        "colab": {
          "base_uri": "https://localhost:8080/"
        },
        "outputId": "b956510b-8bc0-4543-fe0b-0dc6e62a369e",
        "id": "bWoEOEwy3KbN"
      },
      "execution_count": 59,
      "outputs": [
        {
          "output_type": "execute_result",
          "data": {
            "text/plain": [
              "array([[  0,   0,   0,   0, 139,   0,   0],\n",
              "       [  0,   0,   0,   0, 162,   0,   0],\n",
              "       [  0,   0,   0,   2, 136,   0,   0],\n",
              "       [  0,   0,   0,   0, 157,   0,   0],\n",
              "       [  0,   0,   1,   1, 241,   0,   3],\n",
              "       [  0,   0,   0,   0, 163,   0,   0],\n",
              "       [  0,   0,   0,   6, 140,   0,   1]])"
            ]
          },
          "metadata": {},
          "execution_count": 59
        }
      ]
    },
    {
      "cell_type": "code",
      "source": [
        "emotion_names = ['neutral', 'happy', 'sad', 'angry', 'fear', 'disgust', 'surprise']\n",
        "# emotion_names = ['neutral', 'happy', 'sad', 'angry', 'fear', 'disgust']\n",
        "conf=confusion_matrix(y_check,y_pred)\n",
        "cm=pd.DataFrame(\n",
        "    conf,index=[i for i in emotion_names],\n",
        "    columns=[i for i in emotion_names]\n",
        ")\n",
        "plt.figure(figsize=(12,7))\n",
        "ax=sns.heatmap(cm,annot=True,fmt='d')\n",
        "ax.set_title(f'Confusion matrix for Ravdess dataset {model_type} model')\n",
        "plt.show()"
      ],
      "metadata": {
        "colab": {
          "base_uri": "https://localhost:8080/",
          "height": 622
        },
        "outputId": "ea782720-6511-490a-c95b-e41f1750c5a5",
        "id": "KYK8BBoS3KbN"
      },
      "execution_count": 60,
      "outputs": [
        {
          "output_type": "display_data",
          "data": {
            "text/plain": [
              "<Figure size 1200x700 with 2 Axes>"
            ],
            "image/png": "[encoded data removed]"
          },
          "metadata": {}
        }
      ]
    },
    {
      "cell_type": "code",
      "source": [
        "print(f'Ravdess dataset {model_type} model Confusion Matrix \\n',classification_report(y_check,y_pred,target_names=emotion_names))"
      ],
      "metadata": {
        "colab": {
          "base_uri": "https://localhost:8080/"
        },
        "outputId": "4f10af7c-1bba-417e-d82b-a6a5b082b4de",
        "id": "vYNoxgGL3KbN"
      },
      "execution_count": 61,
      "outputs": [
        {
          "output_type": "stream",
          "name": "stdout",
          "text": [
            "Ravdess dataset CNN based model Confusion Matrix \n",
            "               precision    recall  f1-score   support\n",
            "\n",
            "     neutral       0.00      0.00      0.00       139\n",
            "       happy       0.00      0.00      0.00       162\n",
            "         sad       0.00      0.00      0.00       138\n",
            "       angry       0.00      0.00      0.00       157\n",
            "        fear       0.21      0.98      0.35       246\n",
            "     disgust       0.00      0.00      0.00       163\n",
            "    surprise       0.25      0.01      0.01       147\n",
            "\n",
            "    accuracy                           0.21      1152\n",
            "   macro avg       0.07      0.14      0.05      1152\n",
            "weighted avg       0.08      0.21      0.08      1152\n",
            "\n"
          ]
        }
      ]
    },
    {
      "cell_type": "code",
      "source": [],
      "metadata": {
        "id": "PVJSzWXmuabJ"
      },
      "execution_count": null,
      "outputs": []
    },
    {
      "cell_type": "markdown",
      "source": [
        "# Crema + Ravdess"
      ],
      "metadata": {
        "id": "UcFxR9foubg1"
      }
    },
    {
      "cell_type": "code",
      "source": [
        "# Usage\n",
        "!ls\n",
        "processed_combined_path = './ravdess_crema_combined_processed_data.csv'\n",
        "combined_df = load_dataset(processed_combined_path)\n",
        "print(\"Dataset shape:\", combined_df.shape)\n",
        "BATCH_SIZE=64"
      ],
      "metadata": {
        "colab": {
          "base_uri": "https://localhost:8080/"
        },
        "outputId": "82cf448b-046f-49e0-e078-5c7a93f05cde",
        "id": "DawhhbWeubg2"
      },
      "execution_count": 62,
      "outputs": [
        {
          "output_type": "stream",
          "name": "stdout",
          "text": [
            "checkpoints\t\t  ravdess_crema_combined_processed_data.csv\n",
            "crema_processed_data.csv  ravdess_processed_data.csv\n",
            "Dataset shape: (35528, 2377)\n"
          ]
        }
      ]
    },
    {
      "cell_type": "code",
      "source": [
        "combined_df = combined_df.fillna(0)\n",
        "print(combined_df.isna().any())\n",
        "combined_df.shape\n",
        "X = combined_df.drop(labels='Emotion',axis=1)\n",
        "Y = combined_df['Emotion']"
      ],
      "metadata": {
        "colab": {
          "base_uri": "https://localhost:8080/"
        },
        "outputId": "946a7f72-727d-46a3-a7b3-2bacb775e14e",
        "id": "WiQtcf_Subg2"
      },
      "execution_count": 63,
      "outputs": [
        {
          "output_type": "stream",
          "name": "stdout",
          "text": [
            "0          False\n",
            "1          False\n",
            "2          False\n",
            "3          False\n",
            "4          False\n",
            "           ...  \n",
            "2372       False\n",
            "2373       False\n",
            "2374       False\n",
            "2375       False\n",
            "Emotion    False\n",
            "Length: 2377, dtype: bool\n"
          ]
        }
      ]
    },
    {
      "cell_type": "code",
      "source": [
        "label_encoder = LabelEncoder()\n",
        "Y = to_categorical(label_encoder.fit_transform(Y))\n",
        "Y"
      ],
      "metadata": {
        "colab": {
          "base_uri": "https://localhost:8080/"
        },
        "outputId": "1029a16d-7a45-4f0d-edd4-00353b549c99",
        "id": "NsWBH1DOubg2"
      },
      "execution_count": 64,
      "outputs": [
        {
          "output_type": "execute_result",
          "data": {
            "text/plain": [
              "array([[0., 0., 0., ..., 1., 0., 0.],\n",
              "       [0., 0., 0., ..., 1., 0., 0.],\n",
              "       [0., 0., 0., ..., 1., 0., 0.],\n",
              "       ...,\n",
              "       [0., 0., 0., ..., 1., 0., 0.],\n",
              "       [0., 0., 0., ..., 1., 0., 0.],\n",
              "       [0., 0., 0., ..., 1., 0., 0.]], dtype=float32)"
            ]
          },
          "metadata": {},
          "execution_count": 64
        }
      ]
    },
    {
      "cell_type": "code",
      "source": [
        "X_train, X_test, X_val, y_train, y_test, y_val = preprocess_data(X, Y, add_dim=True)"
      ],
      "metadata": {
        "id": "T38nuT0jubg3"
      },
      "execution_count": 65,
      "outputs": []
    },
    {
      "cell_type": "code",
      "source": [
        "model_combined = create_model((X_train.shape[1], 1), 7, optimizer, model_loss)\n",
        "model_combined.summary()"
      ],
      "metadata": {
        "trusted": true,
        "colab": {
          "base_uri": "https://localhost:8080/"
        },
        "outputId": "ecc124c6-8521-4cfe-9048-f8e66017769b",
        "id": "XkWjlOpOubg3"
      },
      "execution_count": 66,
      "outputs": [
        {
          "output_type": "stream",
          "name": "stdout",
          "text": [
            "Model: \"sequential_5\"\n",
            "_________________________________________________________________\n",
            " Layer (type)                Output Shape              Param #   \n",
            "=================================================================\n",
            " conv1d_25 (Conv1D)          (None, 2376, 512)         3072      \n",
            "                                                                 \n",
            " batch_normalization_30 (Ba  (None, 2376, 512)         2048      \n",
            " tchNormalization)                                               \n",
            "                                                                 \n",
            " max_pooling1d_25 (MaxPooli  (None, 1188, 512)         0         \n",
            " ng1D)                                                           \n",
            "                                                                 \n",
            " conv1d_26 (Conv1D)          (None, 1188, 512)         1311232   \n",
            "                                                                 \n",
            " batch_normalization_31 (Ba  (None, 1188, 512)         2048      \n",
            " tchNormalization)                                               \n",
            "                                                                 \n",
            " max_pooling1d_26 (MaxPooli  (None, 594, 512)          0         \n",
            " ng1D)                                                           \n",
            "                                                                 \n",
            " conv1d_27 (Conv1D)          (None, 594, 256)          655616    \n",
            "                                                                 \n",
            " batch_normalization_32 (Ba  (None, 594, 256)          1024      \n",
            " tchNormalization)                                               \n",
            "                                                                 \n",
            " max_pooling1d_27 (MaxPooli  (None, 297, 256)          0         \n",
            " ng1D)                                                           \n",
            "                                                                 \n",
            " conv1d_28 (Conv1D)          (None, 297, 256)          196864    \n",
            "                                                                 \n",
            " batch_normalization_33 (Ba  (None, 297, 256)          1024      \n",
            " tchNormalization)                                               \n",
            "                                                                 \n",
            " max_pooling1d_28 (MaxPooli  (None, 149, 256)          0         \n",
            " ng1D)                                                           \n",
            "                                                                 \n",
            " conv1d_29 (Conv1D)          (None, 149, 128)          98432     \n",
            "                                                                 \n",
            " batch_normalization_34 (Ba  (None, 149, 128)          512       \n",
            " tchNormalization)                                               \n",
            "                                                                 \n",
            " max_pooling1d_29 (MaxPooli  (None, 75, 128)           0         \n",
            " ng1D)                                                           \n",
            "                                                                 \n",
            " flatten_5 (Flatten)         (None, 9600)              0         \n",
            "                                                                 \n",
            " dense_10 (Dense)            (None, 512)               4915712   \n",
            "                                                                 \n",
            " batch_normalization_35 (Ba  (None, 512)               2048      \n",
            " tchNormalization)                                               \n",
            "                                                                 \n",
            " dense_11 (Dense)            (None, 7)                 3591      \n",
            "                                                                 \n",
            "=================================================================\n",
            "Total params: 7193223 (27.44 MB)\n",
            "Trainable params: 7188871 (27.42 MB)\n",
            "Non-trainable params: 4352 (17.00 KB)\n",
            "_________________________________________________________________\n"
          ]
        }
      ]
    },
    {
      "cell_type": "code",
      "source": [
        "model_path = './checkpoints/combined_cnn.h5'\n",
        "history_combined=model_combined.fit(X_train, y_train, epochs=EPOCH, validation_data=(X_val,y_val), batch_size=BATCH_SIZE,callbacks=[early_stopping_callback,lr_scheduler, create_model_checkpoint(model_path)])"
      ],
      "metadata": {
        "colab": {
          "base_uri": "https://localhost:8080/"
        },
        "outputId": "e5b56aaf-59d7-462c-9d99-0859e5bb7815",
        "id": "ax-OkkVwubg3"
      },
      "execution_count": null,
      "outputs": [
        {
          "output_type": "stream",
          "name": "stdout",
          "text": [
            "Epoch 1/50\n",
            "400/400 [==============================] - ETA: 0s - loss: 1.5595 - accuracy: 0.4033\n",
            "Epoch 1: val_accuracy improved from -inf to 0.29792, saving model to ./checkpoints/combined_cnn.h5\n",
            "400/400 [==============================] - 136s 336ms/step - loss: 1.5595 - accuracy: 0.4033 - val_loss: 1.7441 - val_accuracy: 0.2979 - lr: 1.2500e-04\n",
            "Epoch 2/50\n",
            "400/400 [==============================] - ETA: 0s - loss: 1.2810 - accuracy: 0.5010\n",
            "Epoch 2: val_accuracy improved from 0.29792 to 0.44671, saving model to ./checkpoints/combined_cnn.h5\n",
            "400/400 [==============================] - 133s 332ms/step - loss: 1.2810 - accuracy: 0.5010 - val_loss: 1.3535 - val_accuracy: 0.4467 - lr: 1.2500e-04\n",
            "Epoch 3/50\n",
            "400/400 [==============================] - ETA: 0s - loss: 1.1488 - accuracy: 0.5585\n",
            "Epoch 3: val_accuracy improved from 0.44671 to 0.53148, saving model to ./checkpoints/combined_cnn.h5\n",
            "400/400 [==============================] - 134s 335ms/step - loss: 1.1488 - accuracy: 0.5585 - val_loss: 1.2152 - val_accuracy: 0.5315 - lr: 1.2500e-04\n",
            "Epoch 4/50\n",
            "400/400 [==============================] - ETA: 0s - loss: 1.0017 - accuracy: 0.6166\n",
            "Epoch 4: val_accuracy improved from 0.53148 to 0.56314, saving model to ./checkpoints/combined_cnn.h5\n",
            "400/400 [==============================] - 133s 333ms/step - loss: 1.0017 - accuracy: 0.6166 - val_loss: 1.1739 - val_accuracy: 0.5631 - lr: 1.2500e-04\n",
            "Epoch 5/50\n",
            "400/400 [==============================] - ETA: 0s - loss: 0.8388 - accuracy: 0.6855\n",
            "Epoch 5: val_accuracy improved from 0.56314 to 0.62082, saving model to ./checkpoints/combined_cnn.h5\n",
            "400/400 [==============================] - 134s 335ms/step - loss: 0.8388 - accuracy: 0.6855 - val_loss: 1.0357 - val_accuracy: 0.6208 - lr: 1.2500e-04\n",
            "Epoch 6/50\n",
            "400/400 [==============================] - ETA: 0s - loss: 0.6686 - accuracy: 0.7570\n",
            "Epoch 6: val_accuracy improved from 0.62082 to 0.66866, saving model to ./checkpoints/combined_cnn.h5\n",
            "400/400 [==============================] - 131s 327ms/step - loss: 0.6686 - accuracy: 0.7570 - val_loss: 0.9192 - val_accuracy: 0.6687 - lr: 1.2500e-04\n",
            "Epoch 7/50\n",
            "400/400 [==============================] - ETA: 0s - loss: 0.5019 - accuracy: 0.8281\n",
            "Epoch 7: val_accuracy improved from 0.66866 to 0.70630, saving model to ./checkpoints/combined_cnn.h5\n",
            "400/400 [==============================] - 132s 330ms/step - loss: 0.5019 - accuracy: 0.8281 - val_loss: 0.8318 - val_accuracy: 0.7063 - lr: 1.2500e-04\n",
            "Epoch 8/50\n",
            "400/400 [==============================] - ETA: 0s - loss: 0.3473 - accuracy: 0.8901\n",
            "Epoch 8: val_accuracy improved from 0.70630 to 0.73901, saving model to ./checkpoints/combined_cnn.h5\n",
            "400/400 [==============================] - 131s 329ms/step - loss: 0.3473 - accuracy: 0.8901 - val_loss: 0.7289 - val_accuracy: 0.7390 - lr: 1.2500e-04\n",
            "Epoch 9/50\n",
            "400/400 [==============================] - ETA: 0s - loss: 0.2426 - accuracy: 0.9260\n",
            "Epoch 9: val_accuracy improved from 0.73901 to 0.79775, saving model to ./checkpoints/combined_cnn.h5\n",
            "400/400 [==============================] - 134s 335ms/step - loss: 0.2426 - accuracy: 0.9260 - val_loss: 0.6072 - val_accuracy: 0.7977 - lr: 1.2500e-04\n",
            "Epoch 10/50\n",
            "400/400 [==============================] - ETA: 0s - loss: 0.1590 - accuracy: 0.9593\n",
            "Epoch 10: val_accuracy improved from 0.79775 to 0.82167, saving model to ./checkpoints/combined_cnn.h5\n",
            "400/400 [==============================] - 133s 332ms/step - loss: 0.1590 - accuracy: 0.9593 - val_loss: 0.5184 - val_accuracy: 0.8217 - lr: 1.2500e-04\n",
            "Epoch 11/50\n",
            "400/400 [==============================] - ETA: 0s - loss: 0.1064 - accuracy: 0.9762\n",
            "Epoch 11: val_accuracy improved from 0.82167 to 0.82730, saving model to ./checkpoints/combined_cnn.h5\n",
            "400/400 [==============================] - 133s 331ms/step - loss: 0.1064 - accuracy: 0.9762 - val_loss: 0.5109 - val_accuracy: 0.8273 - lr: 1.2500e-04\n",
            "Epoch 12/50\n",
            "400/400 [==============================] - ETA: 0s - loss: 0.0788 - accuracy: 0.9841\n",
            "Epoch 12: val_accuracy improved from 0.82730 to 0.86282, saving model to ./checkpoints/combined_cnn.h5\n",
            "400/400 [==============================] - 134s 335ms/step - loss: 0.0788 - accuracy: 0.9841 - val_loss: 0.4298 - val_accuracy: 0.8628 - lr: 1.2500e-04\n",
            "Epoch 13/50\n",
            "400/400 [==============================] - ETA: 0s - loss: 0.0553 - accuracy: 0.9905\n",
            "Epoch 13: val_accuracy improved from 0.86282 to 0.87267, saving model to ./checkpoints/combined_cnn.h5\n",
            "400/400 [==============================] - 131s 329ms/step - loss: 0.0553 - accuracy: 0.9905 - val_loss: 0.3982 - val_accuracy: 0.8727 - lr: 1.2500e-04\n",
            "Epoch 14/50\n",
            "400/400 [==============================] - ETA: 0s - loss: 0.0473 - accuracy: 0.9921\n",
            "Epoch 14: val_accuracy improved from 0.87267 to 0.88322, saving model to ./checkpoints/combined_cnn.h5\n",
            "400/400 [==============================] - 132s 330ms/step - loss: 0.0473 - accuracy: 0.9921 - val_loss: 0.3587 - val_accuracy: 0.8832 - lr: 1.2500e-04\n",
            "Epoch 15/50\n",
            "400/400 [==============================] - ETA: 0s - loss: 0.0401 - accuracy: 0.9928\n",
            "Epoch 15: val_accuracy did not improve from 0.88322\n",
            "400/400 [==============================] - 129s 322ms/step - loss: 0.0401 - accuracy: 0.9928 - val_loss: 0.4290 - val_accuracy: 0.8723 - lr: 1.2500e-04\n",
            "Epoch 16/50\n",
            "400/400 [==============================] - ETA: 0s - loss: 0.0398 - accuracy: 0.9927\n",
            "Epoch 16: val_accuracy did not improve from 0.88322\n",
            "400/400 [==============================] - 127s 317ms/step - loss: 0.0398 - accuracy: 0.9927 - val_loss: 0.4576 - val_accuracy: 0.8526 - lr: 1.2500e-04\n",
            "Epoch 17/50\n",
            "400/400 [==============================] - ETA: 0s - loss: 0.0501 - accuracy: 0.9892\n",
            "Epoch 17: ReduceLROnPlateau reducing learning rate to 6.25000029685907e-05.\n",
            "\n",
            "Epoch 17: val_accuracy did not improve from 0.88322\n",
            "400/400 [==============================] - 127s 318ms/step - loss: 0.0501 - accuracy: 0.9892 - val_loss: 0.4920 - val_accuracy: 0.8445 - lr: 1.2500e-04\n",
            "Epoch 18/50\n",
            "400/400 [==============================] - ETA: 0s - loss: 0.0208 - accuracy: 0.9970\n",
            "Epoch 18: val_accuracy improved from 0.88322 to 0.91066, saving model to ./checkpoints/combined_cnn.h5\n",
            "400/400 [==============================] - 135s 338ms/step - loss: 0.0208 - accuracy: 0.9970 - val_loss: 0.3032 - val_accuracy: 0.9107 - lr: 6.2500e-05\n",
            "Epoch 19/50\n",
            "400/400 [==============================] - ETA: 0s - loss: 0.0098 - accuracy: 0.9993\n",
            "Epoch 19: val_accuracy improved from 0.91066 to 0.91699, saving model to ./checkpoints/combined_cnn.h5\n",
            "400/400 [==============================] - 130s 325ms/step - loss: 0.0098 - accuracy: 0.9993 - val_loss: 0.2820 - val_accuracy: 0.9170 - lr: 6.2500e-05\n",
            "Epoch 20/50\n",
            "400/400 [==============================] - ETA: 0s - loss: 0.0068 - accuracy: 0.9996\n",
            "Epoch 20: val_accuracy improved from 0.91699 to 0.92015, saving model to ./checkpoints/combined_cnn.h5\n",
            "400/400 [==============================] - 129s 324ms/step - loss: 0.0068 - accuracy: 0.9996 - val_loss: 0.2832 - val_accuracy: 0.9202 - lr: 6.2500e-05\n",
            "Epoch 21/50\n",
            "400/400 [==============================] - ETA: 0s - loss: 0.0052 - accuracy: 0.9997\n",
            "Epoch 21: val_accuracy did not improve from 0.92015\n",
            "400/400 [==============================] - 127s 318ms/step - loss: 0.0052 - accuracy: 0.9997 - val_loss: 0.2977 - val_accuracy: 0.9166 - lr: 6.2500e-05\n",
            "Epoch 22/50\n",
            "400/400 [==============================] - ETA: 0s - loss: 0.0047 - accuracy: 0.9997\n",
            "Epoch 22: val_accuracy did not improve from 0.92015\n",
            "400/400 [==============================] - 127s 318ms/step - loss: 0.0047 - accuracy: 0.9997 - val_loss: 0.2713 - val_accuracy: 0.9195 - lr: 6.2500e-05\n",
            "Epoch 23/50\n",
            "400/400 [==============================] - ETA: 0s - loss: 0.0044 - accuracy: 0.9997\n",
            "Epoch 23: ReduceLROnPlateau reducing learning rate to 3.125000148429535e-05.\n",
            "\n",
            "Epoch 23: val_accuracy did not improve from 0.92015\n",
            "400/400 [==============================] - 127s 318ms/step - loss: 0.0044 - accuracy: 0.9997 - val_loss: 0.2841 - val_accuracy: 0.9173 - lr: 6.2500e-05\n",
            "Epoch 24/50\n",
            "400/400 [==============================] - ETA: 0s - loss: 0.0034 - accuracy: 0.9997\n",
            "Epoch 24: val_accuracy improved from 0.92015 to 0.92086, saving model to ./checkpoints/combined_cnn.h5\n",
            "400/400 [==============================] - 134s 335ms/step - loss: 0.0034 - accuracy: 0.9997 - val_loss: 0.2677 - val_accuracy: 0.9209 - lr: 3.1250e-05\n",
            "Epoch 25/50\n",
            "400/400 [==============================] - ETA: 0s - loss: 0.0029 - accuracy: 0.9997\n",
            "Epoch 25: val_accuracy improved from 0.92086 to 0.92438, saving model to ./checkpoints/combined_cnn.h5\n",
            "400/400 [==============================] - 129s 323ms/step - loss: 0.0029 - accuracy: 0.9997 - val_loss: 0.2646 - val_accuracy: 0.9244 - lr: 3.1250e-05\n",
            "Epoch 26/50\n",
            "400/400 [==============================] - ETA: 0s - loss: 0.0024 - accuracy: 0.9998\n",
            "Epoch 26: val_accuracy improved from 0.92438 to 0.92543, saving model to ./checkpoints/combined_cnn.h5\n",
            "400/400 [==============================] - 130s 324ms/step - loss: 0.0024 - accuracy: 0.9998 - val_loss: 0.2606 - val_accuracy: 0.9254 - lr: 3.1250e-05\n",
            "Epoch 27/50\n",
            "215/400 [===============>..............] - ETA: 57s - loss: 0.0019 - accuracy: 1.0000"
          ]
        }
      ]
    },
    {
      "cell_type": "code",
      "source": [
        "plot_training_history(history_combined,\"Ravdess + Crema\")"
      ],
      "metadata": {
        "id": "5jBcQL0Kubg3"
      },
      "execution_count": null,
      "outputs": []
    },
    {
      "cell_type": "code",
      "source": [
        "y_pred = model_combined.predict(X_test)\n",
        "y_pred = np.argmax(y_pred, axis=1)\n",
        "y_pred"
      ],
      "metadata": {
        "id": "XUZFfnHSubg3"
      },
      "execution_count": null,
      "outputs": []
    },
    {
      "cell_type": "code",
      "source": [
        "y_check=np.argmax(y_test,axis=1)\n",
        "y_check"
      ],
      "metadata": {
        "id": "uWZkPQUqubg4"
      },
      "execution_count": null,
      "outputs": []
    },
    {
      "cell_type": "code",
      "source": [
        "loss,accuracy=model_combined.evaluate(X_test,y_test,verbose=0)\n",
        "print(f'Test Loss: {loss}')\n",
        "print(f'Test Accuracy: {accuracy}')"
      ],
      "metadata": {
        "id": "Q973-LKwubg4"
      },
      "execution_count": null,
      "outputs": []
    },
    {
      "cell_type": "code",
      "source": [
        "conf=confusion_matrix(y_check,y_pred)\n",
        "conf"
      ],
      "metadata": {
        "id": "A_RGU4Rdubg4"
      },
      "execution_count": null,
      "outputs": []
    },
    {
      "cell_type": "code",
      "source": [
        "emotion_names = ['neutral', 'happy', 'sad', 'angry', 'fear', 'disgust', 'surprise']\n",
        "# emotion_names = ['neutral', 'happy', 'sad', 'angry', 'fear', 'disgust']\n",
        "conf=confusion_matrix(y_check,y_pred)\n",
        "cm=pd.DataFrame(\n",
        "    conf,index=[i for i in emotion_names],\n",
        "    columns=[i for i in emotion_names]\n",
        ")\n",
        "plt.figure(figsize=(12,7))\n",
        "ax=sns.heatmap(cm,annot=True,fmt='d')\n",
        "ax.set_title(f'Confusion matrix for Ravdess + Crema dataset {model_type} model')\n",
        "plt.show()"
      ],
      "metadata": {
        "id": "KQCBj9fjubg4"
      },
      "execution_count": null,
      "outputs": []
    },
    {
      "cell_type": "code",
      "source": [
        "print(f'Ravdess + Crema dataset {model_type} model Confusion Matrix \\n',classification_report(y_check,y_pred,target_names=emotion_names))"
      ],
      "metadata": {
        "id": "HSMZLu9Bubg4"
      },
      "execution_count": null,
      "outputs": []
    },
    {
      "cell_type": "code",
      "source": [],
      "metadata": {
        "id": "feSq07yizXYR"
      },
      "execution_count": null,
      "outputs": []
    }
  ]
}